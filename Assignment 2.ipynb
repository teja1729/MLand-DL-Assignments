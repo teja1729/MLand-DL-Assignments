{
 "cells": [
  {
   "cell_type": "markdown",
   "metadata": {},
   "source": [
    "1. Write a program which accepts a sequence of comma-separated numbers from console  and generate a list. \n"
   ]
  },
  {
   "cell_type": "code",
   "execution_count": 34,
   "metadata": {},
   "outputs": [
    {
     "name": "stdout",
     "output_type": "stream",
     "text": [
      "Enter the sequence seperated by comma : 1,2,3,4,5,6\n",
      "['1', '2', '3', '4', '5', '6']\n"
     ]
    }
   ],
   "source": [
    "#as input function returns string and using split function and splitting by ',' whic splits the string\n",
    "#split function returns list\n",
    "list1=input('Enter the sequence seperated by comma : ').split(',')\n",
    "print(list1)"
   ]
  },
  {
   "cell_type": "code",
   "execution_count": 22,
   "metadata": {},
   "outputs": [
    {
     "data": {
      "text/plain": [
       "'2. Create the below pattern using nested for loop in Python. \\n*  \\n* *  \\n* * *  \\n* * * *  \\n* * * * *  \\n* * * *  \\n* * *  \\n* *\\n*\\n'"
      ]
     },
     "execution_count": 22,
     "metadata": {},
     "output_type": "execute_result"
    }
   ],
   "source": [
    "'''2. Create the below pattern using nested for loop in Python. \n",
    "*  \n",
    "* *  \n",
    "* * *  \n",
    "* * * *  \n",
    "* * * * *  \n",
    "* * * *  \n",
    "* * *  \n",
    "* *\n",
    "*\n",
    "'''"
   ]
  },
  {
   "cell_type": "code",
   "execution_count": 31,
   "metadata": {},
   "outputs": [
    {
     "name": "stdout",
     "output_type": "stream",
     "text": [
      " \n",
      "*  \n",
      "* *  \n",
      "* * *  \n",
      "* * * *  \n",
      "* * * * *  \n",
      "* * * *  \n",
      "* * *  \n",
      "* *  \n",
      "*  \n"
     ]
    }
   ],
   "source": [
    "#the above part is divided in two parts\n",
    "#part-1,2 nested loop is used \n",
    "#part-1 code for 1,2,3,4 star pattern \n",
    "for i in range(0,5):  \n",
    "    for j in range(0,i):\n",
    "        print('*',end=' ')\n",
    "    print(' ')\n",
    "#part2 code for 5,4,3,2,1 star pattern\n",
    "#used 5-i instead of i to reverse the pattern\n",
    "for i in range(0,5):\n",
    "    for j in range(0,5-i):\n",
    "        print('*',end=' ')\n",
    "    print(' ')"
   ]
  },
  {
   "cell_type": "markdown",
   "metadata": {},
   "source": [
    "3. Write a Python program to reverse a word after accepting the input from the user. Sample Output: \n",
    "\n",
    "Input word: ineuron \n",
    "\n",
    "Output: norueni"
   ]
  },
  {
   "cell_type": "code",
   "execution_count": 32,
   "metadata": {},
   "outputs": [
    {
     "name": "stdout",
     "output_type": "stream",
     "text": [
      "Enter a word to reverse : ineuron\n",
      "The word before reveresed :  ineuron\n",
      "The word after reversed :  norueni\n"
     ]
    }
   ],
   "source": [
    "#input function returns string so n is string\n",
    "n=input('Enter a word to reverse : ')\n",
    "print('The word before reveresed : ',n)\n",
    "#n[::-1] reverses the string \n",
    "print('The word after reversed : ',n[::-1])"
   ]
  },
  {
   "cell_type": "code",
   "execution_count": null,
   "metadata": {},
   "outputs": [],
   "source": []
  }
 ],
 "metadata": {
  "kernelspec": {
   "display_name": "Python 3",
   "language": "python",
   "name": "python3"
  },
  "language_info": {
   "codemirror_mode": {
    "name": "ipython",
    "version": 3
   },
   "file_extension": ".py",
   "mimetype": "text/x-python",
   "name": "python",
   "nbconvert_exporter": "python",
   "pygments_lexer": "ipython3",
   "version": "3.7.6"
  }
 },
 "nbformat": 4,
 "nbformat_minor": 4
}
